{
  "nbformat": 4,
  "nbformat_minor": 0,
  "metadata": {
    "colab": {
      "provenance": []
    },
    "kernelspec": {
      "name": "python3",
      "display_name": "Python 3"
    },
    "language_info": {
      "name": "python"
    }
  },
  "cells": [
    {
      "cell_type": "code",
      "source": [
        "import os\n",
        "\n",
        "# List the files in the /content directory\n",
        "print(os.listdir('/content'))\n"
      ],
      "metadata": {},
      "execution_count": null,
      "outputs": []
    },
    {
      "cell_type": "code",
      "source": [
        "import pandas as pd\n",
        "from sklearn.model_selection import train_test_split\n",
        "from sklearn.feature_extraction.text import TfidfVectorizer\n",
        "from sklearn.linear_model import PassiveAggressiveClassifier\n",
        "from sklearn.metrics import accuracy_score, confusion_matrix\n",
        "import joblib\n",
        "import seaborn as sns\n",
        "import matplotlib.pyplot as plt\n",
        "\n",
        "# Path to the CSV file\n",
        "file_path = '/content/fake_or_real_news.csv'\n",
        "\n",
        "# Load the CSV file into a pandas DataFrame\n",
        "data = pd.read_csv(file_path)\n",
        "\n",
        "# Display the first few rows\n",
        "print(data.head())\n"
      ],
      "metadata": {},
      "execution_count": null,
      "outputs": []
    },
    {
      "cell_type": "code",
      "source": [
        "# Check for missing values\n",
        "print(data.isnull().sum())\n",
        "\n",
        "# Drop missing values (if any)\n",
        "data = data.dropna()\n",
        "\n",
        "# Split the dataset into training and testing sets\n",
        "x_train, x_test, y_train, y_test = train_test_split(\n",
        "    data['text'], data['label'], test_size=0.2, random_state=7\n",
        ")\n",
        "\n",
        "# Initialize TfidfVectorizer and convert text to numerical features\n",
        "tfidf_vectorizer = TfidfVectorizer(stop_words='english', max_df=0.7)\n",
        "tfidf_train = tfidf_vectorizer.fit_transform(x_train)\n",
        "tfidf_test = tfidf_vectorizer.transform(x_test)\n"
      ],
      "metadata": {},
      "execution_count": null,
      "outputs": []
    },
    {
      "cell_type": "code",
      "source": [
        "# Initialize and train the PassiveAggressiveClassifier\n",
        "pac = PassiveAggressiveClassifier(max_iter=50)\n",
        "pac.fit(tfidf_train, y_train)\n",
        "\n",
        "# Make predictions on the test set\n",
        "y_pred = pac.predict(tfidf_test)\n",
        "\n",
        "# Calculate the model's accuracy\n",
        "accuracy = accuracy_score(y_test, y_pred)\n",
        "print(f\"Accuracy: {round(accuracy * 100, 2)}%\")\n"
      ],
      "metadata": {},
      "execution_count": null,
      "outputs": []
    },
    {
      "cell_type": "code",
      "source": [
        "# Create and display the confusion matrix\n",
        "conf_matrix = confusion_matrix(y_test, y_pred, labels=['FAKE', 'REAL'])\n",
        "print(\"Confusion Matrix:\")\n",
        "print(conf_matrix)\n",
        "\n",
        "plt.figure(figsize=(5, 4))\n",
        "sns.heatmap(conf_matrix, annot=True, fmt='d', cmap='coolwarm', \n",
        "            xticklabels=['FAKE', 'REAL'], yticklabels=['FAKE', 'REAL'])\n",
        "plt.title(\"Confusion Matrix\")\n",
        "plt.ylabel(\"True Label\")\n",
        "plt.xlabel(\"Predicted Label\")\n",
        "plt.show()\n"
      ],
      "metadata": {},
      "execution_count": null,
      "outputs": []
    },
    {
      "cell_type": "code",
      "source": [
        "# Define a function to predict whether a news article is fake or real\n",
        "def predict_news(news):\n",
        "    vectorized_input = tfidf_vectorizer.transform([news])  # Transform the input text\n",
        "    prediction = pac.predict(vectorized_input)  # Make prediction\n",
        "    return prediction[0]\n",
        "\n",
        "# Example usage\n",
        "news_example = \"Kamala won the elections!\"\n",
        "result = predict_news(news_example)\n",
        "print(f\"The news is: {result}\")\n"
      ],
      "metadata": {},
      "execution_count": null,
      "outputs": []
    },
    {
      "cell_type": "code",
      "source": [
        "# Save the model and vectorizer\n",
        "joblib.dump(pac, '/content/fake_news_model.pkl')\n",
        "joblib.dump(tfidf_vectorizer, '/content/tfidf_vectorizer.pkl')\n",
        "print(\"Model and vectorizer saved!\")\n"
      ],
      "metadata": {},
      "execution_count": null,
      "outputs": []
    },
    {
      "cell_type": "code",
      "source": [
        "# Load the saved model and vectorizer\n",
        "loaded_model = joblib.load('/content/fake_news_model.pkl')\n",
        "loaded_vectorizer = joblib.load('/content/tfidf_vectorizer.pkl')\n",
        "\n",
        "# Test the loaded model\n",
        "news_example = \"COVID-19 vaccines are now available for free worldwide.\"\n",
        "result = loaded_model.predict(loaded_vectorizer.transform([news_example]))\n",
        "print(f\"The loaded model predicts: {result[0]}\")\n"
      ],
      "metadata": {},
      "execution_count": null,
      "outputs": []
    }
  ]
}
